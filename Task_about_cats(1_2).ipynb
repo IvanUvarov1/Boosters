{
 "cells": [
  {
   "cell_type": "code",
   "execution_count": 79,
   "metadata": {
    "scrolled": false
   },
   "outputs": [],
   "source": [
    "# считывание текста из файла, удаление лишних пробелов и приведение к нижнему регистру\n",
    "sentences = []\n",
    "new_sent = []\n",
    "i = 0\n",
    "\n",
    "with open ('sentences.txt','r') as f:\n",
    "    sentences = f.read().replace('\\n', '').split('.')\n",
    "    sentences.remove('')\n",
    "    \n",
    "    for el in sentences:\n",
    "        new_sent.append(el.lower())\n",
    "    \n",
    "\n",
    "# исправление ошибки, где точка разделяла не предложение, а дробную часть числа\n",
    "new_sent[6] = '.'.join(new_sent[6:9])\n",
    "new_sent.remove('8 and 11')\n",
    "new_sent.remove('0 lb)')\n",
    "new_sent[13] = '.'.join(new_sent[13:15])\n",
    "new_sent.remove('4), and is available in two editions'),\n",
    "new_sent[13]\n",
    "\n",
    "#разделяем предложения на слова\n",
    "import re \n",
    "splitted_words = []\n",
    "i = 0\n",
    "j = 0\n",
    "\n",
    "while i < len(new_sent):\n",
    "    splitted_words.append(re.split('[^a-z]', new_sent[i]))   \n",
    "    i += 1    \n",
    "\n",
    "dict_words = dict()\n",
    "index_dict = dict()\n",
    "\n",
    "j=0\n",
    "k=0\n",
    "x=0\n",
    "\n",
    "#Засовываем в словарь все имеющиемся слова и количество их упоминаний в тексте\n",
    "while k < len(splitted_words):\n",
    "    while j < len(splitted_words[k]):\n",
    "        if splitted_words[k][j] in dict_words:\n",
    "            dict_words [ splitted_words[k][j] ] += 1\n",
    "            j+=1\n",
    "        else:\n",
    "            dict_words [ splitted_words[k][j] ]  = 1\n",
    "            j+=1\n",
    "    k+=1\n",
    "    j=0\n",
    "\n",
    "del dict_words['']\n",
    "\n"
   ]
  },
  {
   "cell_type": "code",
   "execution_count": 23,
   "metadata": {},
   "outputs": [
    {
     "data": {
      "text/plain": [
       "True"
      ]
     },
     "execution_count": 23,
     "metadata": {},
     "output_type": "execute_result"
    }
   ],
   "source": [
    "#формирование словаря с индексами\n",
    "j=0\n",
    "k=0\n",
    "x=0\n",
    "index_dict = dict()\n",
    "\n",
    "\n",
    "while k < len(splitted_words):\n",
    "    while j < len(splitted_words[k]):\n",
    "        if splitted_words[k][j] not in index_dict and splitted_words[k][j] != '':\n",
    "            index_dict [ splitted_words[k][j] ] = x\n",
    "            x+=1\n",
    "        j+=1\n",
    "    k+=1\n",
    "    j=0\n",
    "\n"
   ]
  },
  {
   "cell_type": "code",
   "execution_count": 59,
   "metadata": {},
   "outputs": [
    {
     "data": {
      "text/plain": [
       "array([1., 0., 1., 0., 1., 0., 0., 0., 0., 0., 0., 2., 0., 0., 0., 0., 0.,\n",
       "       0., 0., 1., 0., 0., 0., 0., 0., 0., 0., 0., 0., 0., 0., 0., 0., 0.,\n",
       "       0., 0., 0., 0., 0., 0., 0., 0., 0., 0., 0., 0., 0., 0., 0., 0., 0.,\n",
       "       0., 0., 0., 0., 0., 0., 0., 2., 1., 0., 0., 0., 0., 0., 0., 0., 0.,\n",
       "       0., 0., 0., 0., 0., 0., 0., 0., 0., 0., 1., 0., 0., 0., 0., 0., 0.,\n",
       "       0., 0., 1., 1., 1., 1., 1., 1., 1., 1., 1., 1., 1., 0., 0., 0., 0.,\n",
       "       0., 0., 0., 0., 0., 0., 0., 0., 0., 0., 0., 0., 0., 0., 0., 0., 0.,\n",
       "       0., 0., 0., 0., 0., 0., 0., 0., 0., 0., 0., 0., 0., 0., 0., 0., 0.,\n",
       "       0., 0., 0., 0., 0., 0., 0., 0., 0., 0., 0., 0., 0., 0., 0., 0., 0.,\n",
       "       0., 0., 0., 0., 0., 0., 0., 0., 0., 0., 0., 0., 0., 0., 0., 0., 0.,\n",
       "       0., 0., 0., 0., 0., 0., 0., 0., 0., 0., 0., 0., 0., 0., 0., 0., 0.,\n",
       "       0., 0., 0., 0., 0., 0., 0., 0., 0., 0., 0., 0., 0., 0., 0., 0., 0.,\n",
       "       0., 0., 0., 0., 0., 0., 0., 0., 0., 0., 0., 0., 0., 0., 0., 0., 0.,\n",
       "       0., 0., 0., 0., 0., 0., 0., 0., 0., 0., 0., 0., 0., 0., 0., 0., 0.,\n",
       "       0., 0., 0., 0., 0., 0., 0., 0., 0., 0., 0., 0., 0., 0., 0., 0.])"
      ]
     },
     "execution_count": 59,
     "metadata": {},
     "output_type": "execute_result"
    }
   ],
   "source": [
    "import numpy as np\n",
    "matrix = np.zeros((22, 254))\n",
    "\n",
    "i=0\n",
    "j=0\n",
    "k=0\n",
    "\n",
    "#Записываем в матрицу количество упоминаний различных слов в различных предложениях(количество употребления i слова в j предложении)\n",
    "while i<len(splitted_words):\n",
    "    while j<len(index_dict):\n",
    "        while k<len(splitted_words[i]):\n",
    "            if splitted_words[i][k] == index_dict.keys()[j]:\n",
    "                matrix[i,index_dict.values()[j]] +=1\n",
    "            k+=1\n",
    "        j+=1\n",
    "        k=0\n",
    "    i+=1\n",
    "    j=0\n",
    "    k=0\n"
   ]
  },
  {
   "cell_type": "code",
   "execution_count": 72,
   "metadata": {},
   "outputs": [
    {
     "name": "stdout",
     "output_type": "stream",
     "text": [
      "Расстояние между 1 и 2 предложением = 0.952754440874\n",
      "Расстояние между 1 и 3 предложением = 0.864473814564\n",
      "Расстояние между 1 и 4 предложением = 0.895171516328\n",
      "Расстояние между 1 и 5 предложением = 0.77708871497\n",
      "Расстояние между 1 и 6 предложением = 0.940238569533\n",
      "Расстояние между 1 и 7 предложением = 0.732738758088\n",
      "Расстояние между 1 и 8 предложением = 0.925875068334\n",
      "Расстояние между 1 и 9 предложением = 0.884272487528\n",
      "Расстояние между 1 и 10 предложением = 0.905508881748\n",
      "Расстояние между 1 и 11 предложением = 0.832816536227\n",
      "Расстояние между 1 и 12 предложением = 0.880477139067\n",
      "Расстояние между 1 и 13 предложением = 0.839643254853\n",
      "Расстояние между 1 и 14 предложением = 0.87035925529\n",
      "Расстояние между 1 и 15 предложением = 0.87401184233\n",
      "Расстояние между 1 и 16 предложением = 0.944272178742\n",
      "Расстояние между 1 и 17 предложением = 0.840636185422\n",
      "Расстояние между 1 и 18 предложением = 0.956644501524\n",
      "Расстояние между 1 и 19 предложением = 0.944272178742\n",
      "Расстояние между 1 и 20 предложением = 0.888544357485\n",
      "Расстояние между 1 и 21 предложением = 0.842757274492\n",
      "Расстояние между 1 и 22 предложением = 0.825036446944\n"
     ]
    }
   ],
   "source": [
    "#считаем расстояние от первого до всех остальных предложений\n",
    "from scipy.spatial import distance\n",
    "i=2\n",
    "while i<len(splitted_words)+1:\n",
    "    print ('Расстояние между 1 и {} предложением = {}'.format(i, distance.cosine(matrix[0], matrix[i-1])))\n",
    "    i+=1"
   ]
  },
  {
   "cell_type": "code",
   "execution_count": null,
   "metadata": {},
   "outputs": [],
   "source": []
  }
 ],
 "metadata": {
  "kernelspec": {
   "display_name": "Python 3",
   "language": "python",
   "name": "python3"
  },
  "language_info": {
   "codemirror_mode": {
    "name": "ipython",
    "version": 3
   },
   "file_extension": ".py",
   "mimetype": "text/x-python",
   "name": "python",
   "nbconvert_exporter": "python",
   "pygments_lexer": "ipython3",
   "version": "3.6.5"
  }
 },
 "nbformat": 4,
 "nbformat_minor": 2
}
