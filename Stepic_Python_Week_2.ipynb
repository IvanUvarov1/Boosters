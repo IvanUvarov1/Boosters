{
 "cells": [
  {
   "cell_type": "markdown",
   "metadata": {},
   "source": [
    "### Цикл While"
   ]
  },
  {
   "cell_type": "code",
   "execution_count": null,
   "metadata": {},
   "outputs": [],
   "source": [
    "s = 1\n",
    "summa = 0\n",
    "while s != 0:\n",
    "    s = int(input())\n",
    "    summa += s\n",
    "print(summa)"
   ]
  },
  {
   "cell_type": "code",
   "execution_count": null,
   "metadata": {},
   "outputs": [],
   "source": [
    "def lcm(a,b):\n",
    "    m = a*b\n",
    "    while a != 0 and b != 0:\n",
    "        if a > b:\n",
    "            a %= b\n",
    "        else:\n",
    "            b %= a\n",
    "    return m // (a+b)\n",
    " \n",
    "while 1:\n",
    "    try:\n",
    "        x = int(input())\n",
    "        y = int(input())\n",
    "        print(lcm(x,y))\n",
    "    except:\n",
    "        break\n"
   ]
  },
  {
   "cell_type": "markdown",
   "metadata": {},
   "source": [
    "### Операторы break, continue"
   ]
  },
  {
   "cell_type": "code",
   "execution_count": 2,
   "metadata": {},
   "outputs": [
    {
     "name": "stdout",
     "output_type": "stream",
     "text": [
      "4\n",
      "5\n",
      "8\n",
      "11\n",
      "11\n",
      "4\n",
      "1111\n"
     ]
    }
   ],
   "source": [
    "a = 0\n",
    "while True:\n",
    "    a = int(input())\n",
    "    if a < 10:\n",
    "        continue\n",
    "    if a > 100: \n",
    "        break\n",
    "    else: print (a)"
   ]
  },
  {
   "cell_type": "markdown",
   "metadata": {},
   "source": [
    "### Цикл for"
   ]
  },
  {
   "cell_type": "code",
   "execution_count": 1,
   "metadata": {},
   "outputs": [
    {
     "name": "stdout",
     "output_type": "stream",
     "text": [
      "1\n",
      "2\n",
      "3\n",
      "4\n",
      "\t 3\t 4\n",
      "1\t 3\t 4\n",
      "2\t 6\t 8\n"
     ]
    }
   ],
   "source": [
    "a = int(input())\n",
    "b = int(input())\n",
    "c = int(input())\n",
    "d = int(input())\n",
    "for i in range(c,d+1):\n",
    "    print('\\t',i,  end = '')\n",
    "print('')\n",
    "for i in range(a,b+1):\n",
    "    print(i, end = '')\n",
    "    for j in range(c,d+1):     \n",
    "        print('\\t', i*j,  end = '')\n",
    "    print('')\n"
   ]
  },
  {
   "cell_type": "code",
   "execution_count": 3,
   "metadata": {},
   "outputs": [
    {
     "name": "stdout",
     "output_type": "stream",
     "text": [
      "2\n",
      "3\n",
      "3.0\n"
     ]
    }
   ],
   "source": [
    "a = int(input())\n",
    "b = int(input())\n",
    "k = 0\n",
    "sum = 0\n",
    "for i in range(a, b+1):\n",
    "    if i%3 == 0:\n",
    "        sum+= i\n",
    "        k+= 1\n",
    "print(sum/k)\n",
    "\n"
   ]
  },
  {
   "cell_type": "markdown",
   "metadata": {},
   "source": [
    "###  Строки и символы "
   ]
  },
  {
   "cell_type": "code",
   "execution_count": 4,
   "metadata": {},
   "outputs": [
    {
     "name": "stdout",
     "output_type": "stream",
     "text": [
      "acda\n",
      "25.0\n"
     ]
    }
   ],
   "source": [
    "a = input()\n",
    "a = a.lower()\n",
    "count = 0\n",
    "for i in range(len(a)):\n",
    "    if a[i] == 'c' or a[i] == 'g':\n",
    "        count += 1\n",
    "print((count/len(a))*100)"
   ]
  },
  {
   "cell_type": "code",
   "execution_count": 5,
   "metadata": {},
   "outputs": [
    {
     "name": "stdout",
     "output_type": "stream",
     "text": [
      "13\n",
      "1131"
     ]
    }
   ],
   "source": [
    "a = input()\n",
    "count = 1\n",
    "b = len(a)\n",
    "for i in range(0, b):\n",
    "    if i == b-1:\n",
    "        print(a[i], count, sep = '', end = '')\n",
    "        break\n",
    "    if a[i] == a[i+1]:\n",
    "        count +=1\n",
    "    else:\n",
    "        print(a[i], count, sep = '', end = '')\n",
    "        count = 1\n"
   ]
  },
  {
   "cell_type": "markdown",
   "metadata": {},
   "source": [
    "### Списки"
   ]
  },
  {
   "cell_type": "code",
   "execution_count": 6,
   "metadata": {},
   "outputs": [
    {
     "name": "stdout",
     "output_type": "stream",
     "text": [
      "1 2 3 4\n",
      "10\n"
     ]
    }
   ],
   "source": [
    "stroka = [int(i) for i in input().split()]\n",
    "sum =0\n",
    "for i in stroka:\n",
    "    sum+= i\n",
    "print(sum)"
   ]
  },
  {
   "cell_type": "code",
   "execution_count": 7,
   "metadata": {},
   "outputs": [
    {
     "name": "stdout",
     "output_type": "stream",
     "text": [
      "1 3 5 6 10\n",
      "13 6 9 15 7 "
     ]
    }
   ],
   "source": [
    "stroka = [int(i) for i in input().split()]\n",
    "new = []\n",
    "if len(stroka)>1:\n",
    "    for i in range(0,len(stroka)):\n",
    "        if i == 0:\n",
    "            new.insert(0, stroka[1] + stroka[-1])\n",
    "        elif i == len(stroka) - 1:\n",
    "            new.insert(len(stroka) - 1, stroka [0] + stroka [-2])\n",
    "        else: new.insert(i, stroka [i-1] + stroka [i+1])\n",
    "    for i in new:\n",
    "        print (i, sep = ' ', end = ' ')\n",
    "else: print (stroka[0])"
   ]
  },
  {
   "cell_type": "code",
   "execution_count": 8,
   "metadata": {},
   "outputs": [
    {
     "name": "stdout",
     "output_type": "stream",
     "text": [
      "4 8 0 3 4 2 0 3\n",
      "0 3 4 "
     ]
    }
   ],
   "source": [
    "stroka = [int(i) for i in input().split()]\n",
    "stroka.sort()\n",
    "new = []\n",
    "for i in range(len(stroka) - 1):\n",
    "    if stroka[i] == stroka[i+1]:\n",
    "        if stroka[i] in new:\n",
    "            continue\n",
    "        else: new.append(stroka[i])\n",
    "for i in new:\n",
    "    print (i, sep = ' ', end = ' ')\n"
   ]
  },
  {
   "cell_type": "markdown",
   "metadata": {},
   "source": [
    "### Задачи по материалам недели "
   ]
  },
  {
   "cell_type": "code",
   "execution_count": 10,
   "metadata": {},
   "outputs": [
    {
     "name": "stdout",
     "output_type": "stream",
     "text": [
      "1\n",
      "2\n",
      "3\n",
      "-4\n",
      "-2\n",
      "34\n"
     ]
    }
   ],
   "source": [
    "sum = 0\n",
    "kvadr = 0\n",
    "while True:\n",
    "    a = int(input())\n",
    "    sum += a\n",
    "    kvadr += a*a\n",
    "    if sum == 0:\n",
    "        break\n",
    "print (kvadr)"
   ]
  },
  {
   "cell_type": "code",
   "execution_count": 11,
   "metadata": {},
   "outputs": [
    {
     "name": "stdout",
     "output_type": "stream",
     "text": [
      "7\n",
      "1 2 2 3 3 3 4 "
     ]
    }
   ],
   "source": [
    "k = int(input())\n",
    "\n",
    "j = k\n",
    "if k == 1:\n",
    "    print('1')\n",
    "if k == 2:\n",
    "    print('1 2')\n",
    "else:\n",
    "    for i in range(1, k):\n",
    "        f= i\n",
    "        while f != 0 and j!= 0:\n",
    "            print (i, sep = ' ', end = ' ')\n",
    "            f -= 1\n",
    "            j -= 1"
   ]
  },
  {
   "cell_type": "code",
   "execution_count": 3,
   "metadata": {},
   "outputs": [
    {
     "name": "stdout",
     "output_type": "stream",
     "text": [
      "1 2 3\n",
      "6\n"
     ]
    }
   ],
   "source": [
    "stroka = [int(i) for i in input().split()]\n",
    "sum =0\n",
    "for i in stroka:\n",
    "    sum+= i\n",
    "print(sum)"
   ]
  },
  {
   "cell_type": "code",
   "execution_count": 12,
   "metadata": {},
   "outputs": [
    {
     "name": "stdout",
     "output_type": "stream",
     "text": [
      "5 8 2 7 8 8 2 4\n",
      "10\n",
      "Отсутствует\n"
     ]
    }
   ],
   "source": [
    "a = [int(i) for i in input().split()]\n",
    "b = int(input())\n",
    "new = []\n",
    "for i in range(len(a)):\n",
    "    if b == a[i]:\n",
    "        new.append(i)\n",
    "for i in range(len(new)):\n",
    "    print(new[i], sep = ' ', end = ' ')\n",
    "if len(new) == 0:\n",
    "    print('Отсутствует')"
   ]
  }
 ],
 "metadata": {
  "kernelspec": {
   "display_name": "Python 3",
   "language": "python",
   "name": "python3"
  },
  "language_info": {
   "codemirror_mode": {
    "name": "ipython",
    "version": 3
   },
   "file_extension": ".py",
   "mimetype": "text/x-python",
   "name": "python",
   "nbconvert_exporter": "python",
   "pygments_lexer": "ipython3",
   "version": "3.6.5"
  }
 },
 "nbformat": 4,
 "nbformat_minor": 2
}
